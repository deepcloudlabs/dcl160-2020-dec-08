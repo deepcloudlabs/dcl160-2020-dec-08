{
 "cells": [
  {
   "cell_type": "code",
   "execution_count": 17,
   "metadata": {},
   "outputs": [],
   "source": [
    "jack = (\"jack bauer\", \"11111111110\", \"tr1\", 10000, 1956)"
   ]
  },
  {
   "cell_type": "code",
   "execution_count": 18,
   "metadata": {},
   "outputs": [
    {
     "name": "stdout",
     "output_type": "stream",
     "text": [
      "10000\n",
      "1956\n",
      "Identity no must be 11-digit\n"
     ]
    }
   ],
   "source": [
    "if jack[1].isdigit() and len(jack[1])==11:\n",
    "    print(jack[3])\n",
    "    print(jack[4])\n",
    "else:\n",
    "    print(\"Identity is not valid!\")\n",
    "print(\"Identity no must be 11-digit\")"
   ]
  },
  {
   "cell_type": "code",
   "execution_count": 9,
   "metadata": {},
   "outputs": [
    {
     "name": "stdout",
     "output_type": "stream",
     "text": [
      "100 is larger 50\n"
     ]
    }
   ],
   "source": [
    "number = 100\n",
    "if number < 0:\n",
    "    print(f\"{number} is negative.\")\n",
    "elif number == 0:   \n",
    "    print(f\"{number} is zero.\")\n",
    "elif 0 < number < 50:   \n",
    "    print(f\"{number} is between 1 and 50\")\n",
    "else:\n",
    "    print(f\"{number} is larger 50\")  \n"
   ]
  },
  {
   "cell_type": "code",
   "execution_count": 19,
   "metadata": {},
   "outputs": [],
   "source": [
    "sequence = [10, 20, 30, None, 50, None, 60, 70]"
   ]
  },
  {
   "cell_type": "code",
   "execution_count": 20,
   "metadata": {},
   "outputs": [
    {
     "data": {
      "text/plain": [
       "8"
      ]
     },
     "execution_count": 20,
     "metadata": {},
     "output_type": "execute_result"
    }
   ],
   "source": [
    "len(sequence)"
   ]
  },
  {
   "cell_type": "code",
   "execution_count": 25,
   "metadata": {},
   "outputs": [],
   "source": [
    "my_counter = 0"
   ]
  },
  {
   "cell_type": "code",
   "execution_count": 35,
   "metadata": {},
   "outputs": [
    {
     "name": "stdout",
     "output_type": "stream",
     "text": [
      "6\n"
     ]
    }
   ],
   "source": [
    "my_counter = 0\n",
    "for seq in sequence:\n",
    "    if seq is None:\n",
    "        continue\n",
    "    else:    \n",
    "        my_counter += 1    \n",
    "print(my_counter)        "
   ]
  },
  {
   "cell_type": "code",
   "execution_count": 30,
   "metadata": {
    "scrolled": true
   },
   "outputs": [
    {
     "name": "stdout",
     "output_type": "stream",
     "text": [
      "6\n"
     ]
    }
   ],
   "source": [
    "my_counter = 0\n",
    "for seq in sequence:\n",
    "    if seq is not None:\n",
    "        my_counter += 1    \n",
    "print(my_counter)        "
   ]
  },
  {
   "cell_type": "code",
   "execution_count": 31,
   "metadata": {},
   "outputs": [],
   "source": [
    "names = [\"jack\", \"kate\", None, \"james\", \"hugo\", None, \"ben\", \"kim\", \"sun\"]"
   ]
  },
  {
   "cell_type": "code",
   "execution_count": 36,
   "metadata": {
    "scrolled": true
   },
   "outputs": [
    {
     "name": "stdout",
     "output_type": "stream",
     "text": [
      "I have not found him/her.\n"
     ]
    }
   ],
   "source": [
    "found = False\n",
    "for name in names:\n",
    "    if name is None:\n",
    "        continue\n",
    "    if name == \"donald\":\n",
    "        found = True\n",
    "        break;      \n",
    "if found:\n",
    "    print(\"I have found him/her.\")\n",
    "else: \n",
    "    print(\"I have not found him/her.\")"
   ]
  },
  {
   "cell_type": "code",
   "execution_count": 37,
   "metadata": {},
   "outputs": [
    {
     "name": "stdout",
     "output_type": "stream",
     "text": [
      "100 is not zero.\n"
     ]
    }
   ],
   "source": [
    "x = 100\n",
    "if x == 0:\n",
    "    # TODO: implement what to do when x is zero!\n",
    "    pass\n",
    "else: \n",
    "    print(f\"{x} is not zero.\")"
   ]
  },
  {
   "cell_type": "code",
   "execution_count": 41,
   "metadata": {},
   "outputs": [],
   "source": [
    "stocks = [\n",
    "          ('orcl', 100. , 500, True), \n",
    "          ('btc', 19000, 2, False), \n",
    "          ('gogle', 123., 2000, True), \n",
    "          ('ibm', 78, 2500, True),\n",
    "          ('eth', 1, 10000, False),\n",
    "          ('msft', 98., 3000, True)\n",
    "         ]"
   ]
  },
  {
   "cell_type": "code",
   "execution_count": 53,
   "metadata": {},
   "outputs": [
    {
     "name": "stdout",
     "output_type": "stream",
     "text": [
      "stock -> 785000.0\n",
      "crypto -> 48000\n"
     ]
    }
   ],
   "source": [
    "asset = { \"stock\": 0, \"crypto\": 0} #dictionary\n",
    "for symbol, price, quantity, is_stock in stocks:\n",
    "    asset_type = \"stock\" if is_stock else \"crypto\" # ternary expression    \n",
    "    asset[asset_type] = asset[asset_type] + price * quantity\n",
    "for asset_type, sum in asset.items():\n",
    "    print(f\"{asset_type} -> {sum}\")"
   ]
  },
  {
   "cell_type": "code",
   "execution_count": 51,
   "metadata": {},
   "outputs": [],
   "source": [
    "employees = [\n",
    "    (\"jack shephard\", \"Sales\", 100000, 1978,True),\n",
    "    (\"kate austen\", \"IT\", 200000, 1985,False),\n",
    "    (\"ben linus\", \"Finance\", 150000, 1967,True),\n",
    "    (\"james sawyer\", \"HR\", 70000, 1979,True),\n",
    "    (\"kim kwon\", \"Sales\", 120000, 1986,True),\n",
    "    (\"sun kwon\", \"IT\", 170000, 1984,False),\n",
    "    (\"hugo reyes\", \"IT\", 120000, 1992,True)\n",
    "]"
   ]
  },
  {
   "cell_type": "code",
   "execution_count": 52,
   "metadata": {},
   "outputs": [
    {
     "name": "stdout",
     "output_type": "stream",
     "text": [
      "Sales\t(fulltime): 220000\n",
      "Sales\t(parttime): 0\n",
      "\n",
      "IT\t(fulltime): 120000\n",
      "IT\t(parttime): 370000\n",
      "\n",
      "Finance\t(fulltime): 150000\n",
      "Finance\t(parttime): 0\n",
      "\n",
      "HR\t(fulltime): 70000\n",
      "HR\t(parttime): 0\n",
      "\n"
     ]
    }
   ],
   "source": [
    "total_salaries = {}\n",
    "for fullname, dept, sal, byear, fulltime in employees:\n",
    "    if dept not in total_salaries:\n",
    "        total_salaries[dept] = {\"fulltime\": 0, \"parttime\": 0}\n",
    "    job_type = \"fulltime\" if fulltime else \"parttime\"\n",
    "    total_salaries[dept][job_type] += sal\n",
    "for dept, salaries in total_salaries.items():\n",
    "    for job_type, salary in salaries.items():\n",
    "        print(f\"{dept}\\t({job_type}): {salary}\")\n",
    "    print(\"\")     "
   ]
  }
 ],
 "metadata": {
  "kernelspec": {
   "display_name": "Python 3",
   "language": "python",
   "name": "python3"
  },
  "language_info": {
   "codemirror_mode": {
    "name": "ipython",
    "version": 3
   },
   "file_extension": ".py",
   "mimetype": "text/x-python",
   "name": "python",
   "nbconvert_exporter": "python",
   "pygments_lexer": "ipython3",
   "version": "3.9.0"
  }
 },
 "nbformat": 4,
 "nbformat_minor": 4
}
