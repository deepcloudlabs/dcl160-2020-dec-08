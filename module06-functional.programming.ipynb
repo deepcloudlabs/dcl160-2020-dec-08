{
 "cells": [
  {
   "cell_type": "code",
   "execution_count": 6,
   "metadata": {},
   "outputs": [],
   "source": [
    "employees = [\n",
    "    (\"jack shephard\", \"Sales\", 100000, 1978,True),\n",
    "    (\"kate austen\", \"IT\", 200000, 1985,False),\n",
    "    (\"ben linus\", \"Finance\", 150000, 1967,True),\n",
    "    (\"james sawyer\", \"HR\", 70000, 1979,True),\n",
    "    (\"kim kwon\", \"Sales\", 120000, 1986,True),\n",
    "    (\"sun kwon\", \"IT\", 200000, 1984,False),\n",
    "    (\"hugo reyes\", \"IT\", 120000, 1992,True)\n",
    "]"
   ]
  },
  {
   "cell_type": "code",
   "execution_count": 8,
   "metadata": {
    "scrolled": true
   },
   "outputs": [
    {
     "name": "stdout",
     "output_type": "stream",
     "text": [
      "[('kate austen', 'IT', 200000, 1985, False), ('sun kwon', 'IT', 200000, 1984, False)]\n"
     ]
    }
   ],
   "source": [
    "max_salary = 0\n",
    "high_emp = []\n",
    "for fullname,dept, salary, birth_year, fulltime in employees:\n",
    "    if not fulltime and salary >= max_salary:\n",
    "        if salary == max_salary:\n",
    "            high_emp.append((fullname,dept, salary, birth_year, fulltime))\n",
    "        else:\n",
    "            high_emp = [(fullname,dept, salary, birth_year, fulltime)]\n",
    "        max_salary = salary\n",
    "print(high_emp)        "
   ]
  },
  {
   "cell_type": "code",
   "execution_count": 10,
   "metadata": {},
   "outputs": [
    {
     "name": "stdout",
     "output_type": "stream",
     "text": [
      "[('kate austen', 'IT', 200000, 1985, False), ('sun kwon', 'IT', 200000, 1984, False)]\n"
     ]
    }
   ],
   "source": [
    "max_salary = 0\n",
    "high_emp = []\n",
    "for emp in employees:\n",
    "    salary = emp[2]\n",
    "    fulltime = emp[4] \n",
    "    if not fulltime and salary >= max_salary:\n",
    "        if salary == max_salary:\n",
    "            high_emp.append(emp)\n",
    "        else:\n",
    "            high_emp = [emp]\n",
    "        max_salary = salary\n",
    "print(high_emp)        "
   ]
  },
  {
   "cell_type": "code",
   "execution_count": 26,
   "metadata": {},
   "outputs": [],
   "source": [
    "# pure function\n",
    "def is_even(number):\n",
    "    print(f\"is_even({number}) is working...\")\n",
    "    return number%2 == 0"
   ]
  },
  {
   "cell_type": "code",
   "execution_count": 13,
   "metadata": {},
   "outputs": [],
   "source": [
    "e = 10\n",
    "def add(x,y):\n",
    "    e = e + 1\n",
    "    return x + y + e"
   ]
  },
  {
   "cell_type": "code",
   "execution_count": 14,
   "metadata": {},
   "outputs": [
    {
     "data": {
      "text/plain": [
       "18"
      ]
     },
     "execution_count": 14,
     "metadata": {},
     "output_type": "execute_result"
    }
   ],
   "source": [
    "add(3,5)"
   ]
  },
  {
   "cell_type": "code",
   "execution_count": 15,
   "metadata": {},
   "outputs": [],
   "source": [
    "e = e + 2"
   ]
  },
  {
   "cell_type": "code",
   "execution_count": 16,
   "metadata": {},
   "outputs": [
    {
     "data": {
      "text/plain": [
       "20"
      ]
     },
     "execution_count": 16,
     "metadata": {},
     "output_type": "execute_result"
    }
   ],
   "source": [
    "add(3,5)"
   ]
  },
  {
   "cell_type": "code",
   "execution_count": 17,
   "metadata": {},
   "outputs": [
    {
     "data": {
      "text/plain": [
       "15"
      ]
     },
     "execution_count": 17,
     "metadata": {},
     "output_type": "execute_result"
    }
   ],
   "source": [
    "sum([1,2,3,4,5])"
   ]
  },
  {
   "cell_type": "code",
   "execution_count": 18,
   "metadata": {},
   "outputs": [
    {
     "data": {
      "text/plain": [
       "5"
      ]
     },
     "execution_count": 18,
     "metadata": {},
     "output_type": "execute_result"
    }
   ],
   "source": [
    "max([1,2,3,4,5])"
   ]
  },
  {
   "cell_type": "code",
   "execution_count": 19,
   "metadata": {},
   "outputs": [
    {
     "data": {
      "text/plain": [
       "1"
      ]
     },
     "execution_count": 19,
     "metadata": {},
     "output_type": "execute_result"
    }
   ],
   "source": [
    "min([1,2,3,4,5])"
   ]
  },
  {
   "cell_type": "code",
   "execution_count": 21,
   "metadata": {},
   "outputs": [],
   "source": [
    "numbers = [4,8,15,16,23,42]"
   ]
  },
  {
   "cell_type": "code",
   "execution_count": 34,
   "metadata": {},
   "outputs": [
    {
     "name": "stdout",
     "output_type": "stream",
     "text": [
      "is_even(4) is working...\n",
      "is_even(8) is working...\n",
      "is_even(15) is working...\n",
      "is_even(16) is working...\n",
      "is_even(23) is working...\n",
      "is_even(42) is working...\n",
      "2100\n"
     ]
    }
   ],
   "source": [
    "# external loop: list\n",
    "total = 0\n",
    "for num in numbers:\n",
    "    if is_even(num):\n",
    "        total += num**2\n",
    "print(total)        "
   ]
  },
  {
   "cell_type": "code",
   "execution_count": 35,
   "metadata": {
    "scrolled": true
   },
   "outputs": [
    {
     "name": "stdout",
     "output_type": "stream",
     "text": [
      "is_even(4) is working...\n",
      "is_even(8) is working...\n",
      "is_even(15) is working...\n",
      "is_even(16) is working...\n",
      "is_even(23) is working...\n",
      "is_even(42) is working...\n"
     ]
    },
    {
     "data": {
      "text/plain": [
       "2100"
      ]
     },
     "execution_count": 35,
     "metadata": {},
     "output_type": "execute_result"
    }
   ],
   "source": [
    "# external loop: list\n",
    "sum([num**2 for num in numbers if is_even(num)])"
   ]
  },
  {
   "cell_type": "code",
   "execution_count": 31,
   "metadata": {},
   "outputs": [],
   "source": [
    "# pure function\n",
    "def squared(n):\n",
    "    return n**2"
   ]
  },
  {
   "cell_type": "code",
   "execution_count": 33,
   "metadata": {
    "scrolled": true
   },
   "outputs": [
    {
     "name": "stdout",
     "output_type": "stream",
     "text": [
      "is_even(4) is working...\n",
      "is_even(8) is working...\n",
      "is_even(15) is working...\n",
      "is_even(16) is working...\n",
      "is_even(23) is working...\n",
      "is_even(42) is working...\n"
     ]
    },
    {
     "data": {
      "text/plain": [
       "[16, 64, 256, 1764]"
      ]
     },
     "execution_count": 33,
     "metadata": {},
     "output_type": "execute_result"
    }
   ],
   "source": [
    "# internal loop: filter, map\n",
    "# functional programming: filter/map/reduce framework -> hadoop\n",
    "list( map( squared , filter(is_even , numbers) ) )"
   ]
  },
  {
   "cell_type": "code",
   "execution_count": 39,
   "metadata": {},
   "outputs": [
    {
     "data": {
      "text/plain": [
       "[16, 64, 256, 1764]"
      ]
     },
     "execution_count": 39,
     "metadata": {},
     "output_type": "execute_result"
    }
   ],
   "source": [
    "# lambda expression -> anonymous function\n",
    "list( map( lambda u : u**2 , filter(lambda v : v%2 == 0  , numbers) ) )"
   ]
  },
  {
   "cell_type": "code",
   "execution_count": 5,
   "metadata": {},
   "outputs": [],
   "source": [
    "from functools import reduce"
   ]
  },
  {
   "cell_type": "code",
   "execution_count": 42,
   "metadata": {},
   "outputs": [
    {
     "data": {
      "text/plain": [
       "2100"
      ]
     },
     "execution_count": 42,
     "metadata": {},
     "output_type": "execute_result"
    }
   ],
   "source": [
    "\"\"\"\n",
    "      0,  16 -> 16\n",
    "     16,  64 -> 80\n",
    "     80, 256 -> 336\n",
    "    336,1764 -> 2100\n",
    "    reduce -> 2100\n",
    "\"\"\"\n",
    "reduce( lambda accumulator,n : accumulator + n , map( lambda u : u**2 , filter(lambda v : v%2 == 0  , numbers) ) , 0)"
   ]
  },
  {
   "cell_type": "code",
   "execution_count": 44,
   "metadata": {},
   "outputs": [
    {
     "data": {
      "text/plain": [
       "2100"
      ]
     },
     "execution_count": 44,
     "metadata": {},
     "output_type": "execute_result"
    }
   ],
   "source": [
    "sum(map( lambda u : u**2 , filter(lambda v : v%2 == 0  , numbers) ))"
   ]
  },
  {
   "cell_type": "code",
   "execution_count": 45,
   "metadata": {},
   "outputs": [
    {
     "data": {
      "text/plain": [
       "462422016"
      ]
     },
     "execution_count": 45,
     "metadata": {},
     "output_type": "execute_result"
    }
   ],
   "source": [
    "reduce( lambda accumulator,n : accumulator * n , map( lambda u : u**2 , filter(lambda v : v%2 == 0  , numbers) ) , 1)"
   ]
  },
  {
   "cell_type": "code",
   "execution_count": null,
   "metadata": {},
   "outputs": [],
   "source": [
    "2 ** 1000000000000"
   ]
  },
  {
   "cell_type": "code",
   "execution_count": 2,
   "metadata": {},
   "outputs": [],
   "source": [
    "employees = [\n",
    "    (\"jack shephard\", \"Sales\", 100000, 1978,True),\n",
    "    (\"kate austen\", \"IT\", 200000, 1985,False),\n",
    "    (\"ben linus\", \"Finance\", 150000, 1967,True),\n",
    "    (\"james sawyer\", \"HR\", 70000, 1979,True),\n",
    "    (\"kim kwon\", \"Sales\", 120000, 1986,True),\n",
    "    (\"sun kwon\", \"IT\", 200000, 1984,False),\n",
    "    (\"hugo reyes\", \"IT\", 120000, 1992,True)\n",
    "]"
   ]
  },
  {
   "cell_type": "code",
   "execution_count": 8,
   "metadata": {},
   "outputs": [
    {
     "data": {
      "text/plain": [
       "960000"
      ]
     },
     "execution_count": 8,
     "metadata": {},
     "output_type": "execute_result"
    }
   ],
   "source": [
    "reduce( lambda acc,sal : acc + sal , map( lambda emp : emp[2]  , employees ) , 0)"
   ]
  },
  {
   "cell_type": "code",
   "execution_count": 12,
   "metadata": {},
   "outputs": [
    {
     "data": {
      "text/plain": [
       "960000"
      ]
     },
     "execution_count": 12,
     "metadata": {},
     "output_type": "execute_result"
    }
   ],
   "source": [
    "def add(x,y):\n",
    "    return x+y\n",
    "def employe_to_salary(emp):\n",
    "    return emp[2]\n",
    "reduce( add , map( employe_to_salary  , employees ) , 0)"
   ]
  },
  {
   "cell_type": "code",
   "execution_count": 14,
   "metadata": {
    "scrolled": true
   },
   "outputs": [
    {
     "data": {
      "text/plain": [
       "960000"
      ]
     },
     "execution_count": 14,
     "metadata": {},
     "output_type": "execute_result"
    }
   ],
   "source": [
    "add = lambda acc,sal : acc + sal\n",
    "employe_to_salary = lambda emp : emp[2]\n",
    "reduce( add , map( employe_to_salary  , employees ) , 0)"
   ]
  },
  {
   "cell_type": "code",
   "execution_count": 16,
   "metadata": {},
   "outputs": [
    {
     "data": {
      "text/plain": [
       "function"
      ]
     },
     "execution_count": 16,
     "metadata": {},
     "output_type": "execute_result"
    }
   ],
   "source": [
    "type(add)"
   ]
  },
  {
   "cell_type": "code",
   "execution_count": 24,
   "metadata": {},
   "outputs": [
    {
     "name": "stdout",
     "output_type": "stream",
     "text": [
      "acc:0\tn:4\n",
      "acc:4\tn:8\n",
      "acc:8\tn:15\n",
      "acc:15\tn:42\n",
      "acc:42\tn:16\n",
      "acc:42\tn:23\n"
     ]
    },
    {
     "data": {
      "text/plain": [
       "42"
      ]
     },
     "execution_count": 24,
     "metadata": {},
     "output_type": "execute_result"
    }
   ],
   "source": [
    "# find max of numbers\n",
    "numbers = [4,8,15,42,16,23]\n",
    "def fun(acc,n):\n",
    "    print(f\"acc:{acc}\\tn:{n}\")\n",
    "    if acc > n:\n",
    "        return acc\n",
    "    else:\n",
    "        return n\n",
    "reduce( fun  , numbers , 0)"
   ]
  },
  {
   "cell_type": "code",
   "execution_count": 23,
   "metadata": {},
   "outputs": [
    {
     "data": {
      "text/plain": [
       "42"
      ]
     },
     "execution_count": 23,
     "metadata": {},
     "output_type": "execute_result"
    }
   ],
   "source": [
    "max(numbers)"
   ]
  },
  {
   "cell_type": "code",
   "execution_count": 31,
   "metadata": {},
   "outputs": [
    {
     "name": "stdout",
     "output_type": "stream",
     "text": [
      "{} ('Sales', 100000)\n",
      "{'Sales': 100000} ('IT', 200000)\n",
      "{'Sales': 100000, 'IT': 200000} ('Finance', 150000)\n",
      "{'Sales': 100000, 'IT': 200000, 'Finance': 150000} ('HR', 70000)\n",
      "{'Sales': 100000, 'IT': 200000, 'Finance': 150000, 'HR': 70000} ('Sales', 120000)\n",
      "{'Sales': 220000, 'IT': 200000, 'Finance': 150000, 'HR': 70000} ('IT', 120000)\n"
     ]
    },
    {
     "data": {
      "text/plain": [
       "{'Sales': 220000, 'IT': 320000, 'Finance': 150000, 'HR': 70000}"
      ]
     },
     "execution_count": 31,
     "metadata": {},
     "output_type": "execute_result"
    }
   ],
   "source": [
    "employees = [\n",
    "    (\"jack shephard\", \"Sales\", 100000, 1978,True),\n",
    "    (\"kate austen\", \"IT\", 200000, 1985,True),\n",
    "    (\"ben linus\", \"Finance\", 150000, 1967,True),\n",
    "    (\"james sawyer\", \"HR\", 70000, 1979,True),\n",
    "    (\"kim kwon\", \"Sales\", 120000, 1986,True),\n",
    "    (\"sun kwon\", \"IT\", 200000, 1984,False),\n",
    "    (\"hugo reyes\", \"IT\", 120000, 1992,True)\n",
    "]\n",
    "def group_by_dept(acc, t):\n",
    "    print(acc,t)\n",
    "    dept, sal = t\n",
    "    if dept not in acc:\n",
    "        acc[dept] = 0\n",
    "    acc[dept] += sal\n",
    "    return acc\n",
    "reduce( group_by_dept , map( lambda emp : (emp[1],emp[2]) , filter(lambda emp: emp[4] , employees)) , {} )"
   ]
  },
  {
   "cell_type": "code",
   "execution_count": null,
   "metadata": {},
   "outputs": [],
   "source": [
    "# { \"fulltime\": 5, \"parttime\": 2}"
   ]
  }
 ],
 "metadata": {
  "kernelspec": {
   "display_name": "Python 3",
   "language": "python",
   "name": "python3"
  },
  "language_info": {
   "codemirror_mode": {
    "name": "ipython",
    "version": 3
   },
   "file_extension": ".py",
   "mimetype": "text/x-python",
   "name": "python",
   "nbconvert_exporter": "python",
   "pygments_lexer": "ipython3",
   "version": "3.9.0"
  }
 },
 "nbformat": 4,
 "nbformat_minor": 4
}
