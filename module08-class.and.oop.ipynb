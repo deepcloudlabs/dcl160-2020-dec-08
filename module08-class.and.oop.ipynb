{
 "cells": [
  {
   "cell_type": "code",
   "execution_count": 7,
   "metadata": {},
   "outputs": [],
   "source": [
    "class InsufficientBalance(Exception):\n",
    "    def __init__(self, *args):\n",
    "        if args:\n",
    "            self.message = args[0]\n",
    "            self.deficit = args[1]\n",
    "        else:\n",
    "            self.message = None\n",
    "            self.deficit = 0.0\n",
    "            \n",
    "    def __str__(self):\n",
    "        return f\"InsufficientBalance [message: {self.message}, deficit: {self.deficit}]\""
   ]
  },
  {
   "cell_type": "code",
   "execution_count": 5,
   "metadata": {},
   "outputs": [],
   "source": [
    "class Account:\n",
    "    def __init__(self, iban, balance=50.0):\n",
    "        self.iban = iban\n",
    "        self.balance = balance\n",
    "        \n",
    "    def deposit(self, amount):\n",
    "        if amount <= 0: # validation\n",
    "            raise ValueError(f\"Amount ({amount}) must be positive.\")\n",
    "        self.balance += amount # business logic\n",
    "        \n",
    "    def withdraw(self, amount):\n",
    "        if amount <= 0: # validation\n",
    "            raise ValueError(f\"Amount ({amount}) must be positive.\")\n",
    "        if amount > self.balance: # business rule\n",
    "            message = f\"Balance {self.balance} is less than amount {amount}\"\n",
    "            deficit = amount - self.balance\n",
    "            raise InsufficientBalance(message,deficit)\n",
    "        self.balance -= amount \n",
    "        \n",
    "    def __str__(self):\n",
    "        return f\"Account [iban: {self.iban}, balance: {self.balance}]\""
   ]
  },
  {
   "cell_type": "code",
   "execution_count": 9,
   "metadata": {
    "scrolled": true
   },
   "outputs": [
    {
     "name": "stdout",
     "output_type": "stream",
     "text": [
      "Account [iban: tr1, balance: 100000.0]\n",
      "Account [iban: tr1, balance: 25000.0]\n",
      "Account [iban: tr1, balance: 30000.0]\n",
      "InsufficientBalance [message: Balance 30000.0 is less than amount 40000, deficit: 10000.0]\n"
     ]
    }
   ],
   "source": [
    "try:\n",
    "    acc1 = Account(iban=\"tr1\", balance=100000.0)\n",
    "    print(acc1)\n",
    "    acc1.withdraw(75000.0) # withdraw(acc1,75000.0 )\n",
    "    print(acc1)\n",
    "    acc1.deposit(5000.0)\n",
    "    print(acc1)\n",
    "    acc1.withdraw(40000)\n",
    "    print(acc1)\n",
    "except ValueError as err:\n",
    "    print(err)\n",
    "except InsufficientBalance as err:\n",
    "    print(err)"
   ]
  },
  {
   "cell_type": "code",
   "execution_count": 11,
   "metadata": {},
   "outputs": [],
   "source": [
    "# Account         -> super-class / Base Class\n",
    "# CheckingAccount -> sub-class   / Derived clas\n",
    "class CheckingAccount(Account):\n",
    "    def __init__(self,iban,balance,overdraft_amount=500):\n",
    "        super().__init__(iban,balance) # Account's Constructor\n",
    "        self.overdraft_amount = overdraft_amount\n",
    "        \n",
    "    def withdraw(self, amount): \n",
    "        if amount <= 0: # validation\n",
    "            raise ValueError(f\"Amount ({amount}) must be positive.\")\n",
    "        if amount > (self.balance+self.overdraft_amount): # business rule\n",
    "            message = f\"Balance {self.balance} is less than amount {amount}\"\n",
    "            deficit = amount - self.balance - self.overdraft_amount\n",
    "            raise InsufficientBalance(message,deficit)\n",
    "        self.balance -= amount  \n",
    "        # super().withdraw(amount)\n",
    "  \n",
    "    def __str__(self):\n",
    "        return f\"CheckingAccount [iban: {self.iban}, balance: {self.balance}]\""
   ]
  },
  {
   "cell_type": "code",
   "execution_count": 15,
   "metadata": {},
   "outputs": [
    {
     "name": "stdout",
     "output_type": "stream",
     "text": [
      "CheckingAccount [iban: tr1, balance: 1000.0]\n",
      "CheckingAccount [iban: tr1, balance: 250.0]\n",
      "CheckingAccount [iban: tr1, balance: 300.0]\n",
      "InsufficientBalance [message: Balance 300.0 is less than amount 801.0, deficit: 1.0]\n"
     ]
    }
   ],
   "source": [
    "try:\n",
    "    acc1 = CheckingAccount(iban=\"tr1\", balance=1000.0)\n",
    "    print(acc1)\n",
    "    acc1.withdraw(750.0) # withdraw(acc1,750.0 )\n",
    "    print(acc1)\n",
    "    acc1.deposit(50.0)\n",
    "    print(acc1)\n",
    "    acc1.withdraw(801.0)\n",
    "    print(acc1)\n",
    "except ValueError as err:\n",
    "    print(err)\n",
    "except InsufficientBalance as err:\n",
    "    print(err)"
   ]
  },
  {
   "cell_type": "code",
   "execution_count": 17,
   "metadata": {},
   "outputs": [],
   "source": [
    "acc2 = Account(\"TR1\", 2000)\n",
    "acc3 = CheckingAccount(\"TR2\", 3000, 1000)"
   ]
  },
  {
   "cell_type": "code",
   "execution_count": 20,
   "metadata": {},
   "outputs": [
    {
     "data": {
      "text/plain": [
       "True"
      ]
     },
     "execution_count": 20,
     "metadata": {},
     "output_type": "execute_result"
    }
   ],
   "source": [
    "isinstance(acc2, Account)"
   ]
  },
  {
   "cell_type": "code",
   "execution_count": 21,
   "metadata": {},
   "outputs": [
    {
     "data": {
      "text/plain": [
       "False"
      ]
     },
     "execution_count": 21,
     "metadata": {},
     "output_type": "execute_result"
    }
   ],
   "source": [
    "isinstance(acc2, CheckingAccount)"
   ]
  },
  {
   "cell_type": "code",
   "execution_count": 22,
   "metadata": {},
   "outputs": [
    {
     "data": {
      "text/plain": [
       "True"
      ]
     },
     "execution_count": 22,
     "metadata": {},
     "output_type": "execute_result"
    }
   ],
   "source": [
    "isinstance(acc3, Account)"
   ]
  },
  {
   "cell_type": "code",
   "execution_count": 23,
   "metadata": {},
   "outputs": [
    {
     "data": {
      "text/plain": [
       "True"
      ]
     },
     "execution_count": 23,
     "metadata": {},
     "output_type": "execute_result"
    }
   ],
   "source": [
    "isinstance(acc3, CheckingAccount)"
   ]
  },
  {
   "cell_type": "code",
   "execution_count": 24,
   "metadata": {},
   "outputs": [],
   "source": [
    "accounts = [Account(\"TR1\", 2000), CheckingAccount(\"TR2\", 3000, 1000)]"
   ]
  },
  {
   "cell_type": "code",
   "execution_count": 25,
   "metadata": {},
   "outputs": [
    {
     "name": "stdout",
     "output_type": "stream",
     "text": [
      "5000.00\n"
     ]
    }
   ],
   "source": [
    "total_balance = 0\n",
    "for acc in accounts:\n",
    "    total_balance += acc.balance\n",
    "print(f\"{total_balance:.2f}\")    "
   ]
  }
 ],
 "metadata": {
  "kernelspec": {
   "display_name": "Python 3",
   "language": "python",
   "name": "python3"
  },
  "language_info": {
   "codemirror_mode": {
    "name": "ipython",
    "version": 3
   },
   "file_extension": ".py",
   "mimetype": "text/x-python",
   "name": "python",
   "nbconvert_exporter": "python",
   "pygments_lexer": "ipython3",
   "version": "3.9.0"
  }
 },
 "nbformat": 4,
 "nbformat_minor": 4
}
