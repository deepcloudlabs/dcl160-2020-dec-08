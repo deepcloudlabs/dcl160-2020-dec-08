{
 "cells": [
  {
   "cell_type": "code",
   "execution_count": 7,
   "metadata": {},
   "outputs": [],
   "source": [
    "class InsufficientBalance(Exception):\n",
    "    def __init__(self, *args):\n",
    "        if args:\n",
    "            self.message = args[0]\n",
    "            self.deficit = args[1]\n",
    "        else:\n",
    "            self.message = None\n",
    "            self.deficit = 0.0\n",
    "            \n",
    "    def __str__(self):\n",
    "        return f\"InsufficientBalance [message: {self.message}, deficit: {self.deficit}]\""
   ]
  },
  {
   "cell_type": "code",
   "execution_count": 37,
   "metadata": {},
   "outputs": [],
   "source": [
    "class Account:\n",
    "    def __init__(self, iban, balance=50.0):\n",
    "        self.iban = iban\n",
    "        self.balance = balance\n",
    "        \n",
    "    def deposit(self, amount):\n",
    "        if amount <= 0: # validation\n",
    "            raise ValueError(f\"Amount ({amount}) must be positive.\")\n",
    "        self.balance += amount # business logic\n",
    "        \n",
    "    def withdraw(self, amount):\n",
    "        print(\"Account::withdraw\")\n",
    "        if amount <= 0: # validation\n",
    "            raise ValueError(f\"Amount ({amount}) must be positive.\")\n",
    "        if amount > self.balance: # business rule\n",
    "            message = f\"Balance {self.balance} is less than amount {amount}\"\n",
    "            deficit = amount - self.balance\n",
    "            raise InsufficientBalance(message,deficit)\n",
    "        self.balance -= amount \n",
    "        \n",
    "    def __str__(self):\n",
    "        return f\"Account [iban: {self.iban}, balance: {self.balance}]\""
   ]
  },
  {
   "cell_type": "code",
   "execution_count": 9,
   "metadata": {
    "scrolled": true
   },
   "outputs": [
    {
     "name": "stdout",
     "output_type": "stream",
     "text": [
      "Account [iban: tr1, balance: 100000.0]\n",
      "Account [iban: tr1, balance: 25000.0]\n",
      "Account [iban: tr1, balance: 30000.0]\n",
      "InsufficientBalance [message: Balance 30000.0 is less than amount 40000, deficit: 10000.0]\n"
     ]
    }
   ],
   "source": [
    "try:\n",
    "    acc1 = Account(iban=\"tr1\", balance=100000.0)\n",
    "    print(acc1)\n",
    "    acc1.withdraw(75000.0) # withdraw(acc1,75000.0 )\n",
    "    print(acc1)\n",
    "    acc1.deposit(5000.0)\n",
    "    print(acc1)\n",
    "    acc1.withdraw(40000)\n",
    "    print(acc1)\n",
    "except ValueError as err:\n",
    "    print(err)\n",
    "except InsufficientBalance as err:\n",
    "    print(err)"
   ]
  },
  {
   "cell_type": "code",
   "execution_count": 38,
   "metadata": {},
   "outputs": [],
   "source": [
    "# Account         -> super-class / Base Class\n",
    "# CheckingAccount -> sub-class   / Derived clas\n",
    "class CheckingAccount(Account):\n",
    "    def __init__(self,iban,balance,overdraft_amount=500):\n",
    "        super().__init__(iban,balance) # Account's Constructor\n",
    "        self.overdraft_amount = overdraft_amount\n",
    "        \n",
    "    def withdraw(self, amount): # overriding\n",
    "        print(\"CheckingAccount::withdraw\")        \n",
    "        if amount <= 0: # validation\n",
    "            raise ValueError(f\"Amount ({amount}) must be positive.\")\n",
    "        if amount > (self.balance+self.overdraft_amount): # business rule\n",
    "            message = f\"Balance {self.balance} is less than amount {amount}\"\n",
    "            deficit = amount - self.balance - self.overdraft_amount\n",
    "            raise InsufficientBalance(message,deficit)\n",
    "        self.balance -= amount  \n",
    "        # super().withdraw(amount)\n",
    "  \n",
    "    def __str__(self):\n",
    "        return f\"CheckingAccount [iban: {self.iban}, balance: {self.balance}]\""
   ]
  },
  {
   "cell_type": "code",
   "execution_count": 15,
   "metadata": {},
   "outputs": [
    {
     "name": "stdout",
     "output_type": "stream",
     "text": [
      "CheckingAccount [iban: tr1, balance: 1000.0]\n",
      "CheckingAccount [iban: tr1, balance: 250.0]\n",
      "CheckingAccount [iban: tr1, balance: 300.0]\n",
      "InsufficientBalance [message: Balance 300.0 is less than amount 801.0, deficit: 1.0]\n"
     ]
    }
   ],
   "source": [
    "try:\n",
    "    acc1 = CheckingAccount(iban=\"tr1\", balance=1000.0)\n",
    "    print(acc1)\n",
    "    acc1.withdraw(750.0) # withdraw(acc1,750.0 )\n",
    "    print(acc1)\n",
    "    acc1.deposit(50.0)\n",
    "    print(acc1)\n",
    "    acc1.withdraw(801.0)\n",
    "    print(acc1)\n",
    "except ValueError as err:\n",
    "    print(err)\n",
    "except InsufficientBalance as err:\n",
    "    print(err)"
   ]
  },
  {
   "cell_type": "code",
   "execution_count": 17,
   "metadata": {},
   "outputs": [],
   "source": [
    "acc2 = Account(\"TR1\", 2000)\n",
    "acc3 = CheckingAccount(\"TR2\", 3000, 1000)"
   ]
  },
  {
   "cell_type": "code",
   "execution_count": 20,
   "metadata": {},
   "outputs": [
    {
     "data": {
      "text/plain": [
       "True"
      ]
     },
     "execution_count": 20,
     "metadata": {},
     "output_type": "execute_result"
    }
   ],
   "source": [
    "isinstance(acc2, Account)"
   ]
  },
  {
   "cell_type": "code",
   "execution_count": 21,
   "metadata": {},
   "outputs": [
    {
     "data": {
      "text/plain": [
       "False"
      ]
     },
     "execution_count": 21,
     "metadata": {},
     "output_type": "execute_result"
    }
   ],
   "source": [
    "isinstance(acc2, CheckingAccount)"
   ]
  },
  {
   "cell_type": "code",
   "execution_count": 22,
   "metadata": {},
   "outputs": [
    {
     "data": {
      "text/plain": [
       "True"
      ]
     },
     "execution_count": 22,
     "metadata": {},
     "output_type": "execute_result"
    }
   ],
   "source": [
    "isinstance(acc3, Account)"
   ]
  },
  {
   "cell_type": "code",
   "execution_count": 23,
   "metadata": {},
   "outputs": [
    {
     "data": {
      "text/plain": [
       "True"
      ]
     },
     "execution_count": 23,
     "metadata": {},
     "output_type": "execute_result"
    }
   ],
   "source": [
    "isinstance(acc3, CheckingAccount)"
   ]
  },
  {
   "cell_type": "code",
   "execution_count": 40,
   "metadata": {},
   "outputs": [],
   "source": [
    "accounts = [\n",
    "    Account(\"TR1\", 2000), \n",
    "    CheckingAccount(\"TR2\", 3000, 1000),\n",
    "    Account(\"TR3\", 4000), \n",
    "    CheckingAccount(\"TR4\", 5000, 2000),    \n",
    "]"
   ]
  },
  {
   "cell_type": "code",
   "execution_count": 41,
   "metadata": {},
   "outputs": [
    {
     "name": "stdout",
     "output_type": "stream",
     "text": [
      "True\n",
      "True\n",
      "True\n",
      "True\n"
     ]
    }
   ],
   "source": [
    "for acc in accounts:\n",
    "    print(isinstance(acc,Account))"
   ]
  },
  {
   "cell_type": "code",
   "execution_count": 42,
   "metadata": {
    "scrolled": true
   },
   "outputs": [
    {
     "name": "stdout",
     "output_type": "stream",
     "text": [
      "Account::withdraw\n",
      "CheckingAccount::withdraw\n",
      "Account::withdraw\n",
      "CheckingAccount::withdraw\n"
     ]
    }
   ],
   "source": [
    "for acc in accounts:\n",
    "    acc.withdraw(50)"
   ]
  },
  {
   "cell_type": "code",
   "execution_count": 43,
   "metadata": {},
   "outputs": [],
   "source": [
    "def get_total_balance(accounts):\n",
    "    total_balance = 0\n",
    "    for acc in accounts:\n",
    "        total_balance += acc.balance\n",
    "    return total_balance    "
   ]
  },
  {
   "cell_type": "code",
   "execution_count": 45,
   "metadata": {},
   "outputs": [
    {
     "name": "stdout",
     "output_type": "stream",
     "text": [
      "13800.00\n"
     ]
    }
   ],
   "source": [
    "print(f\"{get_total_balance(accounts):.2f}\")    "
   ]
  },
  {
   "cell_type": "code",
   "execution_count": 47,
   "metadata": {},
   "outputs": [],
   "source": [
    "class Pet: # interface/abstract class\n",
    "    def play(self):\n",
    "        pass\n",
    "    \n",
    "    def setName(self):\n",
    "        pass"
   ]
  },
  {
   "cell_type": "code",
   "execution_count": 51,
   "metadata": {},
   "outputs": [],
   "source": [
    "class Cat(Pet):\n",
    "    def __init__(self, name= \"Garfield\"):\n",
    "        self.name = name\n",
    "     \n",
    "    def play(self): # override\n",
    "        print(f\"{self.name} is playing now...\")\n",
    "    \n",
    "    def setName(self): # override\n",
    "        return self.name    "
   ]
  },
  {
   "cell_type": "code",
   "execution_count": 52,
   "metadata": {
    "scrolled": true
   },
   "outputs": [
    {
     "name": "stdout",
     "output_type": "stream",
     "text": [
      "Tekir is playing now...\n"
     ]
    }
   ],
   "source": [
    "cat1 = Cat(\"Tekir\")\n",
    "cat1.play()"
   ]
  },
  {
   "cell_type": "code",
   "execution_count": 53,
   "metadata": {},
   "outputs": [],
   "source": [
    "# operator overloading\n",
    "# +, -, /, *, %, ... -> int, str, float\n",
    "# Class -> Object -> operator"
   ]
  },
  {
   "cell_type": "code",
   "execution_count": 61,
   "metadata": {},
   "outputs": [],
   "source": [
    "class fraction:\n",
    "    def __init__(self, pay, payda):\n",
    "        self.pay = pay\n",
    "        self.payda = payda\n",
    "        \n",
    "    def __add__(self,right):\n",
    "        new_pay = self.pay * right.payda + self.payda * right.pay \n",
    "        return fraction( new_pay , self.payda * right.payda)\n",
    "\n",
    "    def __truediv__(self,right): # /\n",
    "        print(\"/\")\n",
    "        new_pay = self.pay * right.payda \n",
    "        new_payda = self.payda * right.pay \n",
    "        return fraction( new_pay , new_payda)\n",
    "\n",
    "    def __floordiv__(self,right): # //\n",
    "        print(\"//\")\n",
    "        new_pay = self.pay * right.payda \n",
    "        new_payda = self.payda * right.pay \n",
    "        return fraction( new_pay , new_payda)\n",
    "\n",
    "    def __str__(self):\n",
    "        return f\"{self.pay}/{self.payda}\""
   ]
  },
  {
   "cell_type": "code",
   "execution_count": 62,
   "metadata": {},
   "outputs": [
    {
     "name": "stdout",
     "output_type": "stream",
     "text": [
      "/\n",
      "//\n",
      "3/5\n",
      "1/2\n",
      "11/10\n",
      "6/5\n",
      "6/5\n"
     ]
    }
   ],
   "source": [
    "f1 = fraction(3,5) # 3 / 5\n",
    "f2 = fraction(1,2) # 1 / 2\n",
    "f3 = f1 + f2 + f1 # f3 = f1.add(f2).add(f1)\n",
    "f4 = f1 / f2\n",
    "f5 = f1 // f2\n",
    "print(f1)\n",
    "print(f2)\n",
    "print(f3)\n",
    "print(f4)\n",
    "print(f5)"
   ]
  },
  {
   "cell_type": "code",
   "execution_count": null,
   "metadata": {},
   "outputs": [],
   "source": []
  }
 ],
 "metadata": {
  "kernelspec": {
   "display_name": "Python 3",
   "language": "python",
   "name": "python3"
  },
  "language_info": {
   "codemirror_mode": {
    "name": "ipython",
    "version": 3
   },
   "file_extension": ".py",
   "mimetype": "text/x-python",
   "name": "python",
   "nbconvert_exporter": "python",
   "pygments_lexer": "ipython3",
   "version": "3.9.0"
  }
 },
 "nbformat": 4,
 "nbformat_minor": 4
}
