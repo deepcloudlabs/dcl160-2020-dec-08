{
 "cells": [
  {
   "cell_type": "code",
   "execution_count": 1,
   "metadata": {},
   "outputs": [],
   "source": [
    "import re"
   ]
  },
  {
   "cell_type": "code",
   "execution_count": 24,
   "metadata": {},
   "outputs": [],
   "source": [
    "meyveler = [ \"elma\", \"kiraz\", \"kivi\", \"muz\", \"karpuz\", \"kavun\" ]"
   ]
  },
  {
   "cell_type": "code",
   "execution_count": 11,
   "metadata": {
    "scrolled": true
   },
   "outputs": [
    {
     "name": "stdout",
     "output_type": "stream",
     "text": [
      "kiraz\n",
      "karpuz\n"
     ]
    }
   ],
   "source": [
    "pattern= \"^k.*z$\"\n",
    "for meyve in meyveler:\n",
    "     if re.fullmatch(pattern, meyve):\n",
    "            print(meyve)"
   ]
  },
  {
   "cell_type": "code",
   "execution_count": 12,
   "metadata": {},
   "outputs": [],
   "source": [
    "pattern= \"^.*z.$\"\n",
    "for meyve in meyveler:\n",
    "     if re.fullmatch(pattern, meyve):\n",
    "            print(meyve)"
   ]
  },
  {
   "cell_type": "code",
   "execution_count": 37,
   "metadata": {},
   "outputs": [
    {
     "name": "stdout",
     "output_type": "stream",
     "text": [
      "This is not valid\n"
     ]
    }
   ],
   "source": [
    "tc_kimlik_no = \"123456789111111111111111111\"\n",
    "pattern= r\"^\\d{11}$\" # raw string\n",
    "if re.fullmatch(pattern, tc_kimlik_no):\n",
    "    print(\"This is valid\")\n",
    "else:\n",
    "    print(\"This is not valid\")"
   ]
  },
  {
   "cell_type": "code",
   "execution_count": 28,
   "metadata": {},
   "outputs": [
    {
     "name": "stdout",
     "output_type": "stream",
     "text": [
      "kiraz\n",
      "karpuz\n"
     ]
    }
   ],
   "source": [
    "pattern1 = r\"[a-z]{4}\"\n",
    "pattern2 = \"k[a-z]*z\"\n",
    "for meyve in meyveler:\n",
    "     if re.fullmatch(pattern2, meyve): # greedy\n",
    "            print(meyve)"
   ]
  },
  {
   "cell_type": "code",
   "execution_count": 39,
   "metadata": {
    "scrolled": true
   },
   "outputs": [
    {
     "name": "stdout",
     "output_type": "stream",
     "text": [
      "muz\n",
      "karpuz\n",
      "kavun\n"
     ]
    }
   ],
   "source": [
    "# \\w -> [a-z]\n",
    "# [a-zA-Z]\n",
    "pattern= r\"^\\w*u\\w$\" # raw string\n",
    "for meyve in meyveler:\n",
    "    if re.fullmatch(pattern, meyve):\n",
    "        print(meyve)"
   ]
  },
  {
   "cell_type": "code",
   "execution_count": 46,
   "metadata": {
    "scrolled": true
   },
   "outputs": [
    {
     "name": "stdout",
     "output_type": "stream",
     "text": [
      "kasdadzasdad\n",
      "elma\n",
      "kiraz\n",
      "kivi\n"
     ]
    }
   ],
   "source": [
    "pattern2 = \"[^u]*\"\n",
    "for meyve in meyveler:\n",
    "     if re.fullmatch(pattern2, meyve): # greedy\n",
    "            print(meyve)"
   ]
  },
  {
   "cell_type": "code",
   "execution_count": 54,
   "metadata": {},
   "outputs": [
    {
     "name": "stdout",
     "output_type": "stream",
     "text": [
      "1             2\t\n",
      "\n",
      "     3    \t    4\t5\n"
     ]
    }
   ],
   "source": [
    "message=\"1             2\\t\\n\\n     3    \\t    4\\t5\"\n",
    "print(message)"
   ]
  },
  {
   "cell_type": "code",
   "execution_count": 56,
   "metadata": {},
   "outputs": [
    {
     "data": {
      "text/plain": [
       "'1,2,3,4,5'"
      ]
     },
     "execution_count": 56,
     "metadata": {},
     "output_type": "execute_result"
    }
   ],
   "source": [
    "pattern = r\"\\s+\"\n",
    "replace = \",\"\n",
    "re.sub(pattern, replace, message)"
   ]
  },
  {
   "cell_type": "code",
   "execution_count": 60,
   "metadata": {},
   "outputs": [
    {
     "data": {
      "text/plain": [
       "'1:2:3:4 5 6 7 8'"
      ]
     },
     "execution_count": 60,
     "metadata": {},
     "output_type": "execute_result"
    }
   ],
   "source": [
    "message = \"1 2 3 4 5 6 7 8\"\n",
    "pattern = r\"\\s+\"\n",
    "replace = \":\"\n",
    "re.sub(pattern, replace, message, count=3)"
   ]
  },
  {
   "cell_type": "code",
   "execution_count": 64,
   "metadata": {},
   "outputs": [
    {
     "data": {
      "text/plain": [
       "['1', '2', '3', '4', '5', '6', '7', '8']"
      ]
     },
     "execution_count": 64,
     "metadata": {},
     "output_type": "execute_result"
    }
   ],
   "source": [
    "message = \"1, 2 ,    3,  4, \\t5, 6, 7   , 8\"\n",
    "[msg.strip() for msg in message.split(\",\")]"
   ]
  },
  {
   "cell_type": "code",
   "execution_count": 67,
   "metadata": {},
   "outputs": [
    {
     "data": {
      "text/plain": [
       "['1', '2', '3', '4, \\t5, 6, 7   , 8']"
      ]
     },
     "execution_count": 67,
     "metadata": {},
     "output_type": "execute_result"
    }
   ],
   "source": [
    "pattern = r\"\\s*,\\s*\"\n",
    "re.split(pattern, message, maxsplit=3)"
   ]
  },
  {
   "cell_type": "code",
   "execution_count": 81,
   "metadata": {},
   "outputs": [],
   "source": [
    "message = \"Littlewood is a little town in England\""
   ]
  },
  {
   "cell_type": "code",
   "execution_count": 82,
   "metadata": {},
   "outputs": [],
   "source": [
    "result = re.search(\"\\slittle\\s\", message, flags= re.IGNORECASE)"
   ]
  },
  {
   "cell_type": "code",
   "execution_count": 78,
   "metadata": {},
   "outputs": [
    {
     "data": {
      "text/plain": [
       "re.Match"
      ]
     },
     "execution_count": 78,
     "metadata": {},
     "output_type": "execute_result"
    }
   ],
   "source": [
    "type(result)"
   ]
  },
  {
   "cell_type": "code",
   "execution_count": 83,
   "metadata": {},
   "outputs": [
    {
     "data": {
      "text/plain": [
       "' little '"
      ]
     },
     "execution_count": 83,
     "metadata": {},
     "output_type": "execute_result"
    }
   ],
   "source": [
    "result.group() if result else 'not found'"
   ]
  },
  {
   "cell_type": "code",
   "execution_count": 90,
   "metadata": {},
   "outputs": [],
   "source": [
    "contact = \"Jack Bauer, Home: 555-555-6789, Work: 555-555-1234-30\""
   ]
  },
  {
   "cell_type": "code",
   "execution_count": 85,
   "metadata": {},
   "outputs": [
    {
     "data": {
      "text/plain": [
       "['555-555-6789', '555-555-1234']"
      ]
     },
     "execution_count": 85,
     "metadata": {},
     "output_type": "execute_result"
    }
   ],
   "source": [
    "[\"555-555-6789\", \"555-555-1234\"]"
   ]
  },
  {
   "cell_type": "code",
   "execution_count": 95,
   "metadata": {},
   "outputs": [
    {
     "data": {
      "text/plain": [
       "['555-555-6789', '555-555-1234-30']"
      ]
     },
     "execution_count": 95,
     "metadata": {},
     "output_type": "execute_result"
    }
   ],
   "source": [
    "contact = \"Jack Bauer, Home: 555-555-6789, Work: 555-555-1234-30\"\n",
    "pattern1 = r\"\\d{3}-\\d{3}-\\d{4}|\\d{3}-\\d{3}-\\d{4}-\\d{2}\"\n",
    "pattern2 = r\"\\d{3}-\\d{3}-\\d{4}-\\d{2}|\\d{3}-\\d{3}-\\d{4}\"\n",
    "re.findall( pattern2 , contact)"
   ]
  },
  {
   "cell_type": "code",
   "execution_count": 97,
   "metadata": {},
   "outputs": [
    {
     "data": {
      "text/plain": [
       "('Jack Bauer', 'jack.bauer@ctu.gov')"
      ]
     },
     "execution_count": 97,
     "metadata": {},
     "output_type": "execute_result"
    }
   ],
   "source": [
    "message = \"Jack Bauer, email: jack.bauer@ctu.gov\"\n",
    "pattern = r\"([A-Z][a-z]+\\s+[A-Z][a-z]+), email: (\\w+\\.\\w+@\\w+\\.\\w{3,5})\"\n",
    "result = re.search(pattern, message)\n",
    "result.groups()"
   ]
  },
  {
   "cell_type": "code",
   "execution_count": 99,
   "metadata": {},
   "outputs": [
    {
     "data": {
      "text/plain": [
       "'Jack Bauer'"
      ]
     },
     "execution_count": 99,
     "metadata": {},
     "output_type": "execute_result"
    }
   ],
   "source": [
    "result.group(1)"
   ]
  },
  {
   "cell_type": "code",
   "execution_count": 100,
   "metadata": {},
   "outputs": [
    {
     "data": {
      "text/plain": [
       "'jack.bauer@ctu.gov'"
      ]
     },
     "execution_count": 100,
     "metadata": {},
     "output_type": "execute_result"
    }
   ],
   "source": [
    "result.group(2)"
   ]
  }
 ],
 "metadata": {
  "kernelspec": {
   "display_name": "Python 3",
   "language": "python",
   "name": "python3"
  },
  "language_info": {
   "codemirror_mode": {
    "name": "ipython",
    "version": 3
   },
   "file_extension": ".py",
   "mimetype": "text/x-python",
   "name": "python",
   "nbconvert_exporter": "python",
   "pygments_lexer": "ipython3",
   "version": "3.9.0"
  }
 },
 "nbformat": 4,
 "nbformat_minor": 4
}
