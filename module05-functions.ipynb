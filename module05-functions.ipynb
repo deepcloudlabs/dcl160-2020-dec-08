{
 "cells": [
  {
   "cell_type": "code",
   "execution_count": 3,
   "metadata": {},
   "outputs": [],
   "source": [
    "employees = [\n",
    "    (\"jack shephard\", \"Sales\", 100000, 1978,True),\n",
    "    (\"kate austen\", \"IT\", 200000, 1985,False),\n",
    "    (\"ben linus\", \"Finance\", 150000, 1967,True),\n",
    "    (\"james sawyer\", \"HR\", 70000, 1979,True),\n",
    "    (\"kim kwon\", \"Sales\", 120000, 1986,True),\n",
    "    (\"sun kwon\", \"IT\", 170000, 1984,False),\n",
    "    (\"hugo reyes\", \"IT\", 120000, 1992,True)\n",
    "]"
   ]
  },
  {
   "cell_type": "code",
   "execution_count": 4,
   "metadata": {},
   "outputs": [],
   "source": [
    "def is_even(number):\n",
    "    \"\"\"\n",
    "      Decides whether number is even or not\n",
    "      Returns True if it is even; False otherwise \n",
    "    \"\"\"\n",
    "    return number%2 == 0"
   ]
  },
  {
   "cell_type": "code",
   "execution_count": 5,
   "metadata": {},
   "outputs": [
    {
     "data": {
      "text/plain": [
       "True"
      ]
     },
     "execution_count": 5,
     "metadata": {},
     "output_type": "execute_result"
    }
   ],
   "source": [
    "is_even(42)"
   ]
  },
  {
   "cell_type": "code",
   "execution_count": 6,
   "metadata": {},
   "outputs": [
    {
     "data": {
      "text/plain": [
       "False"
      ]
     },
     "execution_count": 6,
     "metadata": {},
     "output_type": "execute_result"
    }
   ],
   "source": [
    "is_even(549)"
   ]
  },
  {
   "cell_type": "code",
   "execution_count": 7,
   "metadata": {},
   "outputs": [],
   "source": [
    "def is_odd(number):\n",
    "    \"\"\"\n",
    "      Decides whether number is odd or not\n",
    "      Returns True if it is odd; False otherwise \n",
    "    \"\"\"\n",
    "    return not is_even(number) "
   ]
  },
  {
   "cell_type": "code",
   "execution_count": 8,
   "metadata": {},
   "outputs": [
    {
     "data": {
      "text/plain": [
       "False"
      ]
     },
     "execution_count": 8,
     "metadata": {},
     "output_type": "execute_result"
    }
   ],
   "source": [
    "is_odd(42)"
   ]
  },
  {
   "cell_type": "code",
   "execution_count": 12,
   "metadata": {},
   "outputs": [
    {
     "data": {
      "text/plain": [
       "True"
      ]
     },
     "execution_count": 12,
     "metadata": {},
     "output_type": "execute_result"
    }
   ],
   "source": [
    "is_odd(549)"
   ]
  },
  {
   "cell_type": "code",
   "execution_count": 15,
   "metadata": {},
   "outputs": [],
   "source": [
    "def get_salary_stat(emps):\n",
    "    \"\"\"\n",
    "    Calculates department salary statitics wrt job type (\"fulltime\", \"parttime\")\n",
    "    \"\"\"\n",
    "    total_salaries = {}\n",
    "    for fullname, dept, sal, byear, fulltime in emps:\n",
    "        if dept not in total_salaries:\n",
    "            total_salaries[dept] = {\"fulltime\": 0, \"parttime\": 0}\n",
    "        job_type = \"fulltime\" if fulltime else \"parttime\"\n",
    "        total_salaries[dept][job_type] += sal \n",
    "    return total_salaries    "
   ]
  },
  {
   "cell_type": "code",
   "execution_count": 16,
   "metadata": {},
   "outputs": [],
   "source": [
    "def print_salary_stat(salary_stat):\n",
    "    \"\"\"\n",
    "    Prints formatted salary statistics on screen\n",
    "    \"\"\"\n",
    "    for dept, salaries in salary_stat.items():\n",
    "        for job_type, salary in salaries.items():\n",
    "            print(f\"{dept}\\t({job_type}): {salary}\")\n",
    "        print(\"\")   \n",
    "    # return None    "
   ]
  },
  {
   "cell_type": "code",
   "execution_count": 17,
   "metadata": {},
   "outputs": [
    {
     "name": "stdout",
     "output_type": "stream",
     "text": [
      "Sales\t(fulltime): 220000\n",
      "Sales\t(parttime): 0\n",
      "\n",
      "IT\t(fulltime): 120000\n",
      "IT\t(parttime): 370000\n",
      "\n",
      "Finance\t(fulltime): 150000\n",
      "Finance\t(parttime): 0\n",
      "\n",
      "HR\t(fulltime): 70000\n",
      "HR\t(parttime): 0\n",
      "\n"
     ]
    }
   ],
   "source": [
    "total = get_salary_stat(employees)\n",
    "print_salary_stat(total)"
   ]
  },
  {
   "cell_type": "code",
   "execution_count": 22,
   "metadata": {
    "scrolled": false
   },
   "outputs": [
    {
     "name": "stdout",
     "output_type": "stream",
     "text": [
      "Sales\t(fulltime): 220000\n",
      "Sales\t(parttime): 0\n",
      "\n",
      "IT\t(fulltime): 120000\n",
      "IT\t(parttime): 370000\n",
      "\n",
      "Finance\t(fulltime): 150000\n",
      "Finance\t(parttime): 0\n",
      "\n",
      "HR\t(fulltime): 70000\n",
      "HR\t(parttime): 0\n",
      "\n"
     ]
    }
   ],
   "source": [
    "print_salary_stat(get_salary_stat(employees))"
   ]
  },
  {
   "cell_type": "code",
   "execution_count": 24,
   "metadata": {},
   "outputs": [],
   "source": [
    "def get_next(number):\n",
    "    if is_even(number):\n",
    "        number = number // 2\n",
    "    else:\n",
    "        number = 3 * number + 1 \n",
    "    return number    "
   ]
  },
  {
   "cell_type": "code",
   "execution_count": 25,
   "metadata": {},
   "outputs": [],
   "source": [
    "def get_sequence_length(number=7):\n",
    "# 7 -> 22 -> 11 -> 34 -> 17 -> 52 -> 26 -> 13 -> 40 -> 20 -> 10 -> 5 -> 16 -> 8 -> 4 -> 2 -> (1)\n",
    "    length = 0\n",
    "    while number>1:\n",
    "        number = get_next(number)\n",
    "        length += 1\n",
    "    return length    "
   ]
  },
  {
   "cell_type": "code",
   "execution_count": 29,
   "metadata": {
    "scrolled": true
   },
   "outputs": [
    {
     "name": "stdout",
     "output_type": "stream",
     "text": [
      "92\n"
     ]
    }
   ],
   "source": [
    "sequence_length = get_sequence_length(549) # get_sequence_length(7)\n",
    "print(sequence_length)"
   ]
  },
  {
   "cell_type": "code",
   "execution_count": 31,
   "metadata": {
    "scrolled": true
   },
   "outputs": [],
   "source": [
    "def get_max_sequence(start, stop):\n",
    "    max_length = 0\n",
    "    max_number = start\n",
    "    for i in range(start,stop):\n",
    "        sequence_length = get_sequence_length(i)\n",
    "        if sequence_length > max_length:\n",
    "            max_length = sequence_length\n",
    "            max_number = i\n",
    "    return (max_number, max_length)        "
   ]
  },
  {
   "cell_type": "code",
   "execution_count": 32,
   "metadata": {},
   "outputs": [],
   "source": [
    "max_result = get_max_sequence(10,100000)"
   ]
  },
  {
   "cell_type": "code",
   "execution_count": 33,
   "metadata": {},
   "outputs": [
    {
     "data": {
      "text/plain": [
       "(77031, 350)"
      ]
     },
     "execution_count": 33,
     "metadata": {},
     "output_type": "execute_result"
    }
   ],
   "source": [
    "max_result"
   ]
  }
 ],
 "metadata": {
  "kernelspec": {
   "display_name": "Python 3",
   "language": "python",
   "name": "python3"
  },
  "language_info": {
   "codemirror_mode": {
    "name": "ipython",
    "version": 3
   },
   "file_extension": ".py",
   "mimetype": "text/x-python",
   "name": "python",
   "nbconvert_exporter": "python",
   "pygments_lexer": "ipython3",
   "version": "3.9.0"
  }
 },
 "nbformat": 4,
 "nbformat_minor": 4
}
