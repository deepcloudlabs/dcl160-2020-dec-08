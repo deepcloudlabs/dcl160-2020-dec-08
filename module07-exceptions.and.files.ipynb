{
 "cells": [
  {
   "cell_type": "code",
   "execution_count": 1,
   "metadata": {},
   "outputs": [],
   "source": [
    "employees = [\n",
    "    (\"jack shephard\", \"Sales\", 100000, 1978,True),\n",
    "    (\"kate austen\", \"IT\", 200000, 1985,False),\n",
    "    (\"ben linus\", \"Finance\", 150000, 1967,True),\n",
    "    (\"james sawyer\", \"HR\", 70000, 1979,True),\n",
    "    (\"kim kwon\", \"Sales\", 120000, 1986,True),\n",
    "    (\"sun kwon\", \"IT\", 200000, 1984,False),\n",
    "    (\"hugo reyes\", \"IT\", 120000, 1992,True)\n",
    "]\n",
    "# mode=\"w\" -> write, \"r\" -> read, \"r+\" -> read/write, \"w+\" -> reading/writing\n",
    "try:\n",
    "    with open(\"employees.txt\", mode=\"w\") as myfile:\n",
    "        for fname,dept,sal,byear,fulltime in employees:\n",
    "            myfile.write(f\"{fname},{sal},{dept},{fulltime},{byear}\\n\") \n",
    "except PermissionError:\n",
    "    print(\"Cannot open/write: chmod +w\")\n",
    "except Exception as err:\n",
    "    print(\"An error has occurred: \"+str(err))"
   ]
  },
  {
   "cell_type": "code",
   "execution_count": 9,
   "metadata": {
    "scrolled": true
   },
   "outputs": [
    {
     "name": "stdout",
     "output_type": "stream",
     "text": [
      "('jack shephard', 'Sales', 100000.0, 1978, True)\n",
      "('kate austen', 'IT', 200000.0, 1985, True)\n",
      "('ben linus', 'Finance', 150000.0, 1967, True)\n",
      "('james sawyer', 'HR', 70000.0, 1979, True)\n",
      "('kim kwon', 'Sales', 120000.0, 1986, True)\n",
      "('sun kwon', 'IT', 200000.0, 1984, True)\n",
      "('hugo reyes', 'IT', 120000.0, 1992, True)\n"
     ]
    }
   ],
   "source": [
    "employees = []\n",
    "with open(\"employees.txt\", mode=\"r\") as myfile:\n",
    "    for line in myfile:\n",
    "        # print(line,end=\"\") \n",
    "        # print(line.strip())\n",
    "        emp = line.strip().split(\",\")\n",
    "        fullname = emp[0]\n",
    "        salary = float(emp[1])\n",
    "        department = emp[2]\n",
    "        birth_year = int(emp[4])\n",
    "        fulltime = bool(emp[3])\n",
    "        employees.append((fullname,department,salary,birth_year,fulltime))\n",
    "for emp in employees:\n",
    "    print(emp)        "
   ]
  },
  {
   "cell_type": "code",
   "execution_count": 12,
   "metadata": {
    "scrolled": false
   },
   "outputs": [
    {
     "name": "stdout",
     "output_type": "stream",
     "text": [
      "('jack shephard', 'Sales', 100000.0, 1978, True)\n",
      "('kate austen', 'IT', 200000.0, 1985, True)\n",
      "('ben linus', 'Finance', 150000.0, 1967, True)\n",
      "('james sawyer', 'HR', 70000.0, 1979, True)\n",
      "('kim kwon', 'Sales', 120000.0, 1986, True)\n",
      "('sun kwon', 'IT', 200000.0, 1984, True)\n",
      "('hugo reyes', 'IT', 120000.0, 1992, True)\n"
     ]
    }
   ],
   "source": [
    "employees = []\n",
    "myfile = open(\"employees.txt\", mode=\"r\")\n",
    "for line in myfile.readlines():\n",
    "    emp = line.strip().split(\",\")\n",
    "    fullname = emp[0]\n",
    "    salary = float(emp[1])\n",
    "    department = emp[2]\n",
    "    birth_year = int(emp[4])\n",
    "    fulltime = bool(emp[3])\n",
    "    employees.append((fullname,department,salary,birth_year,fulltime))\n",
    "myfile.close()    \n",
    "for emp in employees:\n",
    "    print(emp)"
   ]
  },
  {
   "cell_type": "code",
   "execution_count": 14,
   "metadata": {},
   "outputs": [],
   "source": [
    "import os"
   ]
  },
  {
   "cell_type": "code",
   "execution_count": 17,
   "metadata": {},
   "outputs": [
    {
     "ename": "FileNotFoundError",
     "evalue": "[WinError 2] The system cannot find the file specified: 'employees.dat' -> 'employees.csv'",
     "output_type": "error",
     "traceback": [
      "\u001b[1;31m---------------------------------------------------------------------------\u001b[0m",
      "\u001b[1;31mFileNotFoundError\u001b[0m                         Traceback (most recent call last)",
      "\u001b[1;32m<ipython-input-17-fc2bb8a84ee2>\u001b[0m in \u001b[0;36m<module>\u001b[1;34m\u001b[0m\n\u001b[1;32m----> 1\u001b[1;33m \u001b[0mos\u001b[0m\u001b[1;33m.\u001b[0m\u001b[0mrename\u001b[0m\u001b[1;33m(\u001b[0m\u001b[1;34m\"employees.dat\"\u001b[0m\u001b[1;33m,\u001b[0m \u001b[1;34m\"employees.csv\"\u001b[0m\u001b[1;33m)\u001b[0m\u001b[1;33m\u001b[0m\u001b[1;33m\u001b[0m\u001b[0m\n\u001b[0m",
      "\u001b[1;31mFileNotFoundError\u001b[0m: [WinError 2] The system cannot find the file specified: 'employees.dat' -> 'employees.csv'"
     ]
    }
   ],
   "source": [
    "os.rename(\"employees.dat\", \"employees.csv\")"
   ]
  },
  {
   "cell_type": "code",
   "execution_count": 18,
   "metadata": {},
   "outputs": [],
   "source": [
    "import json"
   ]
  },
  {
   "cell_type": "code",
   "execution_count": 19,
   "metadata": {},
   "outputs": [],
   "source": [
    "data = {\n",
    "    \"employees\": [\n",
    "        { \"fullname\": \"jack shephard\", \"department\": \"Sales\", \"salary\": 100000, \"year\": 1978, \"fulltime\": True},\n",
    "        { \"fullname\": \"kate austen\" , \"department\": \"IT\", \"salary\":200000,  \"year\":1985,\"fulltime\":False},\n",
    "        { \"fullname\": \"ben linus\", \"department\": \"Finance\",\"salary\": 150000,  \"year\":1967,\"fulltime\":True},\n",
    "        { \"fullname\": \"james sawyer\", \"department\": \"HR\",\"salary\": 70000,  \"year\":1979,\"fulltime\":True},\n",
    "        { \"fullname\": \"kim kwon\", \"department\": \"Sales\",\"salary\": 120000,  \"year\":1986,\"fulltime\":True},\n",
    "        { \"fullname\": \"sun kwon\", \"department\": \"IT\", \"salary\":200000,  \"year\":1984,\"fulltime\":False},\n",
    "        { \"fullname\": \"hugo reyes\", \"department\": \"IT\",\"salary\": 120000,  \"year\":1992,\"fulltime\":True}        \n",
    "    ]\n",
    "}"
   ]
  },
  {
   "cell_type": "code",
   "execution_count": 27,
   "metadata": {},
   "outputs": [],
   "source": [
    "with open(\"employees.json\", \"w\") as jsonfile:\n",
    "    json.dump(data, jsonfile,indent=4)"
   ]
  },
  {
   "cell_type": "code",
   "execution_count": 24,
   "metadata": {},
   "outputs": [],
   "source": [
    "with open(\"employees.json\", \"r\") as jsonfile:\n",
    "    read_data = json.load(jsonfile)"
   ]
  },
  {
   "cell_type": "code",
   "execution_count": 25,
   "metadata": {},
   "outputs": [
    {
     "name": "stdout",
     "output_type": "stream",
     "text": [
      "{'fullname': 'jack shephard', 'department': 'Sales', 'salary': 100000, 'year': 1978, 'fulltime': True}\n",
      "{'fullname': 'kate austen', 'department': 'IT', 'salary': 200000, 'year': 1985, 'fulltime': False}\n",
      "{'fullname': 'ben linus', 'department': 'Finance', 'salary': 150000, 'year': 1967, 'fulltime': True}\n",
      "{'fullname': 'james sawyer', 'department': 'HR', 'salary': 70000, 'year': 1979, 'fulltime': True}\n",
      "{'fullname': 'kim kwon', 'department': 'Sales', 'salary': 120000, 'year': 1986, 'fulltime': True}\n",
      "{'fullname': 'sun kwon', 'department': 'IT', 'salary': 200000, 'year': 1984, 'fulltime': False}\n",
      "{'fullname': 'hugo reyes', 'department': 'IT', 'salary': 120000, 'year': 1992, 'fulltime': True}\n"
     ]
    }
   ],
   "source": [
    "for emp in read_data[\"employees\"]:\n",
    "    print(emp)"
   ]
  },
  {
   "cell_type": "code",
   "execution_count": 26,
   "metadata": {},
   "outputs": [
    {
     "name": "stdout",
     "output_type": "stream",
     "text": [
      "{\n",
      "    \"employees\": [\n",
      "        {\n",
      "            \"fullname\": \"jack shephard\",\n",
      "            \"department\": \"Sales\",\n",
      "            \"salary\": 100000,\n",
      "            \"year\": 1978,\n",
      "            \"fulltime\": true\n",
      "        },\n",
      "        {\n",
      "            \"fullname\": \"kate austen\",\n",
      "            \"department\": \"IT\",\n",
      "            \"salary\": 200000,\n",
      "            \"year\": 1985,\n",
      "            \"fulltime\": false\n",
      "        },\n",
      "        {\n",
      "            \"fullname\": \"ben linus\",\n",
      "            \"department\": \"Finance\",\n",
      "            \"salary\": 150000,\n",
      "            \"year\": 1967,\n",
      "            \"fulltime\": true\n",
      "        },\n",
      "        {\n",
      "            \"fullname\": \"james sawyer\",\n",
      "            \"department\": \"HR\",\n",
      "            \"salary\": 70000,\n",
      "            \"year\": 1979,\n",
      "            \"fulltime\": true\n",
      "        },\n",
      "        {\n",
      "            \"fullname\": \"kim kwon\",\n",
      "            \"department\": \"Sales\",\n",
      "            \"salary\": 120000,\n",
      "            \"year\": 1986,\n",
      "            \"fulltime\": true\n",
      "        },\n",
      "        {\n",
      "            \"fullname\": \"sun kwon\",\n",
      "            \"department\": \"IT\",\n",
      "            \"salary\": 200000,\n",
      "            \"year\": 1984,\n",
      "            \"fulltime\": false\n",
      "        },\n",
      "        {\n",
      "            \"fullname\": \"hugo reyes\",\n",
      "            \"department\": \"IT\",\n",
      "            \"salary\": 120000,\n",
      "            \"year\": 1992,\n",
      "            \"fulltime\": true\n",
      "        }\n",
      "    ]\n",
      "}\n"
     ]
    }
   ],
   "source": [
    "print(json.dumps(read_data,indent=4))"
   ]
  },
  {
   "cell_type": "code",
   "execution_count": 30,
   "metadata": {},
   "outputs": [
    {
     "name": "stdout",
     "output_type": "stream",
     "text": [
      "Enter an integer: forty two\n"
     ]
    },
    {
     "ename": "ValueError",
     "evalue": "invalid literal for int() with base 10: 'forty two'",
     "output_type": "error",
     "traceback": [
      "\u001b[1;31m---------------------------------------------------------------------------\u001b[0m",
      "\u001b[1;31mValueError\u001b[0m                                Traceback (most recent call last)",
      "\u001b[1;32m<ipython-input-30-d222549eef79>\u001b[0m in \u001b[0;36m<module>\u001b[1;34m\u001b[0m\n\u001b[1;32m----> 1\u001b[1;33m \u001b[0mnumber\u001b[0m \u001b[1;33m=\u001b[0m \u001b[0mint\u001b[0m\u001b[1;33m(\u001b[0m\u001b[0minput\u001b[0m\u001b[1;33m(\u001b[0m\u001b[1;34m\"Enter an integer: \"\u001b[0m\u001b[1;33m)\u001b[0m\u001b[1;33m)\u001b[0m\u001b[1;33m\u001b[0m\u001b[1;33m\u001b[0m\u001b[0m\n\u001b[0m",
      "\u001b[1;31mValueError\u001b[0m: invalid literal for int() with base 10: 'forty two'"
     ]
    }
   ],
   "source": [
    "\n",
    "number = int(input(\"Enter an integer: \"))"
   ]
  },
  {
   "cell_type": "code",
   "execution_count": 41,
   "metadata": {
    "scrolled": false
   },
   "outputs": [
    {
     "name": "stdout",
     "output_type": "stream",
     "text": [
      "Enter an integer: 123454\n",
      "Enter an integer: 343543\n",
      "123454 / 343543 = 0.36\n"
     ]
    }
   ],
   "source": [
    "while True:\n",
    "    try:\n",
    "        number1 = int(input(\"Enter an integer: \"))\n",
    "        number2 = int(input(\"Enter an integer: \"))\n",
    "        result = number1 / number2\n",
    "    except ValueError:\n",
    "        print(\"You must provide an integer\")\n",
    "    except ZeroDivisionError:\n",
    "        print(\"select number2 as non zero integer\")\n",
    "    else:    \n",
    "        print(f\"{number1} / {number2} = {result:.2f}\")        \n",
    "        break"
   ]
  },
  {
   "cell_type": "code",
   "execution_count": 1,
   "metadata": {},
   "outputs": [
    {
     "name": "stdout",
     "output_type": "stream",
     "text": [
      "Enter an integer: abc\n",
      "Try again invalid literal for int() with base 10: 'abc'\n",
      "\n",
      "Enter an integer: 10\n",
      "Enter an integer: 0\n",
      "Try again division by zero\n",
      "\n",
      "Enter an integer: 1\n",
      "Enter an integer: 2\n",
      "1 / 2 = 0.50\n"
     ]
    }
   ],
   "source": [
    "while True:\n",
    "    try:\n",
    "        number1 = int(input(\"Enter an integer: \"))\n",
    "        number2 = int(input(\"Enter an integer: \"))\n",
    "        result = number1 / number2\n",
    "    except (ValueError, ZeroDivisionError) as err:\n",
    "        print(f\"Try again: {err}\\n\")\n",
    "    else:    \n",
    "        print(f\"{number1} / {number2} = {result:.2f}\")        \n",
    "        break"
   ]
  },
  {
   "cell_type": "code",
   "execution_count": 4,
   "metadata": {},
   "outputs": [
    {
     "name": "stdout",
     "output_type": "stream",
     "text": [
      "try block is running....\n",
      "ZeroDivisionError has occurred...\n"
     ]
    }
   ],
   "source": [
    "try:\n",
    "    file = open(\"employees.json\", mode=\"r\")\n",
    "    print('try block is running....')\n",
    "    x = 1 / 0\n",
    "except ZeroDivisionError: \n",
    "    print('ZeroDivisionError has occurred...')\n",
    "else:\n",
    "    print('else is executing...') \n",
    "finally:\n",
    "    file.close()    "
   ]
  },
  {
   "cell_type": "code",
   "execution_count": 6,
   "metadata": {},
   "outputs": [],
   "source": [
    "def fun():\n",
    "    try:\n",
    "        return 42\n",
    "    except:\n",
    "        return 100\n",
    "    finally:\n",
    "        return 108    "
   ]
  },
  {
   "cell_type": "code",
   "execution_count": 7,
   "metadata": {},
   "outputs": [
    {
     "data": {
      "text/plain": [
       "108"
      ]
     },
     "execution_count": 7,
     "metadata": {},
     "output_type": "execute_result"
    }
   ],
   "source": [
    "fun()"
   ]
  },
  {
   "cell_type": "code",
   "execution_count": 8,
   "metadata": {},
   "outputs": [
    {
     "name": "stdout",
     "output_type": "stream",
     "text": [
      "Enter an integer between 1-100: 150\n",
      "Enter an integer between 1-100: 250\n",
      "Try again: 150 is not between 1 and 100.\n",
      "\n",
      "Enter an integer between 1-100: 30\n",
      "Enter an integer between 1-100: 40\n",
      "30 / 40 = 0.75\n"
     ]
    }
   ],
   "source": [
    "while True:\n",
    "    try:\n",
    "        number1 = int(input(\"Enter an integer between 1-100: \"))\n",
    "        number2 = int(input(\"Enter an integer between 1-100: \"))\n",
    "        if not (0 < number1 < 101):\n",
    "            raise ValueError(f\"{number1} is not between 1 and 100.\")\n",
    "        if not (0 < number2 < 101):\n",
    "            raise ValueError(f\"{number2} is not between 1 and 100.\")\n",
    "        result = number1 / number2\n",
    "    except (ValueError, ZeroDivisionError) as err:\n",
    "        print(f\"Try again: {err}\\n\")\n",
    "    else:    \n",
    "        print(f\"{number1} / {number2} = {result:.2f}\")        \n",
    "        break"
   ]
  }
 ],
 "metadata": {
  "kernelspec": {
   "display_name": "Python 3",
   "language": "python",
   "name": "python3"
  },
  "language_info": {
   "codemirror_mode": {
    "name": "ipython",
    "version": 3
   },
   "file_extension": ".py",
   "mimetype": "text/x-python",
   "name": "python",
   "nbconvert_exporter": "python",
   "pygments_lexer": "ipython3",
   "version": "3.9.0"
  }
 },
 "nbformat": 4,
 "nbformat_minor": 4
}
